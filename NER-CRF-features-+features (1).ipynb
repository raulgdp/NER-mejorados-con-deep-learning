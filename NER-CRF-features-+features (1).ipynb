{
 "cells": [
  {
   "cell_type": "markdown",
   "metadata": {},
   "source": [
    "# Este es un ejemplo de un modelo de CRFs + features para resolver la tarea de NER, usando la herramienta crfsuite  referenciado en la página https://github.com/TeamHG-Memex/sklearn-crfsuite/blob/master/docs/CoNLL2002.ipynb. El rendimiento del clasificador es del 80%. "
   ]
  },
  {
   "cell_type": "code",
   "execution_count": 1,
   "metadata": {},
   "outputs": [],
   "source": [
    "%matplotlib inline\n",
    "import matplotlib.pyplot as plt\n",
    "plt.style.use('ggplot')"
   ]
  },
  {
   "cell_type": "code",
   "execution_count": 2,
   "metadata": {},
   "outputs": [],
   "source": [
    "from itertools import chain\n",
    "\n",
    "import nltk\n",
    "import sklearn\n",
    "import scipy.stats\n",
    "from sklearn.metrics import make_scorer\n",
    "from sklearn.model_selection import cross_val_score\n",
    "from sklearn.model_selection import RandomizedSearchCV\n",
    "\n",
    "import sklearn_crfsuite\n",
    "from sklearn_crfsuite import scorers\n",
    "from sklearn_crfsuite import metrics"
   ]
  },
  {
   "cell_type": "markdown",
   "metadata": {},
   "source": [
    "## Uso de CoNLL2002 para  reconocimiento de entidades +CRF\n",
    "\n",
    "El corpis de CoNLL2002 tiene especificados los archivos de los conjuntos de entrenamiento, evaluación y testeo. "
   ]
  },
  {
   "cell_type": "code",
   "execution_count": 3,
   "metadata": {},
   "outputs": [
    {
     "data": {
      "text/plain": [
       "['esp.testa', 'esp.testb', 'esp.train', 'ned.testa', 'ned.testb', 'ned.train']"
      ]
     },
     "execution_count": 3,
     "metadata": {},
     "output_type": "execute_result"
    }
   ],
   "source": [
    "nltk.corpus.conll2002.fileids()"
   ]
  },
  {
   "cell_type": "code",
   "execution_count": 4,
   "metadata": {},
   "outputs": [
    {
     "name": "stdout",
     "output_type": "stream",
     "text": [
      "[('Los', 'DA', 'O'), ('clientes', 'NC', 'O'), ('pueden', 'VMI', 'O'), ('utilizar', 'VMN', 'O'), ('el', 'DA', 'O'), ('portal', 'NC', 'O'), ('\"', 'Fe', 'O'), ('viajesydestinos.com', 'NC', 'B-MISC'), ('\"', 'Fe', 'O'), (',', 'Fc', 'O'), ('que', 'PR', 'O'), ('el', 'DA', 'O'), ('pasado', 'AQ', 'O'), ('año', 'NC', 'O'), ('recibió', 'VMI', 'O'), ('ya', 'RG', 'O'), ('más', 'RG', 'O'), ('de', 'SP', 'O'), ('medio', 'DN', 'O'), ('millón', 'NC', 'O'), ('de', 'SP', 'O'), ('visitas', 'NC', 'O'), ('de', 'SP', 'O'), ('Internautas', 'NC', 'B-MISC'), (',', 'Fc', 'O'), ('para', 'SP', 'O'), ('consultar', 'VMN', 'O'), ('tarifas', 'NC', 'O'), ('de', 'SP', 'O'), ('billetes', 'NC', 'O'), ('de', 'SP', 'O'), ('transporte', 'NC', 'O'), (',', 'Fc', 'O'), ('plazas', 'NC', 'O'), ('hoteleras', 'AQ', 'O'), ('o', 'CC', 'O'), ('paquetes', 'NC', 'O'), ('turísticos', 'AQ', 'O'), (',', 'Fc', 'O'), ('aunque', 'CS', 'O'), ('la', 'DA', 'O'), ('venta', 'NC', 'O'), ('final', 'AQ', 'O'), ('corre', 'VMI', 'O'), ('siempre', 'RG', 'O'), ('a', 'SP', 'O'), ('cargo', 'NC', 'O'), ('de', 'SP', 'O'), ('una', 'DI', 'O'), ('agencia', 'NC', 'O'), ('de', 'SP', 'O'), ('viajes', 'NC', 'O'), (',', 'Fc', 'O'), ('explicó', 'VMI', 'O'), ('el', 'DA', 'O'), ('responsable', 'NC', 'O'), ('de', 'SP', 'O'), ('Savia', 'NC', 'B-ORG'), ('Amadeus', 'AQ', 'I-ORG'), ('.', 'Fp', 'O')]\n",
      "CPU times: user 1.04 s, sys: 29 ms, total: 1.07 s\n",
      "Wall time: 1.07 s\n"
     ]
    }
   ],
   "source": [
    "%%time\n",
    "train_sents = list(nltk.corpus.conll2002.iob_sents('esp.train'))\n",
    "test_sents = list(nltk.corpus.conll2002.iob_sents('esp.testb'))\n",
    "print(test_sents[4])"
   ]
  },
  {
   "cell_type": "code",
   "execution_count": 5,
   "metadata": {},
   "outputs": [
    {
     "data": {
      "text/plain": [
       "[('Melbourne', 'NP', 'B-LOC'),\n",
       " ('(', 'Fpa', 'O'),\n",
       " ('Australia', 'NP', 'B-LOC'),\n",
       " (')', 'Fpt', 'O'),\n",
       " (',', 'Fc', 'O'),\n",
       " ('25', 'Z', 'O'),\n",
       " ('may', 'NC', 'O'),\n",
       " ('(', 'Fpa', 'O'),\n",
       " ('EFE', 'NC', 'B-ORG'),\n",
       " (')', 'Fpt', 'O'),\n",
       " ('.', 'Fp', 'O')]"
      ]
     },
     "execution_count": 5,
     "metadata": {},
     "output_type": "execute_result"
    }
   ],
   "source": [
    "train_sents[0]"
   ]
  },
  {
   "cell_type": "markdown",
   "metadata": {},
   "source": [
    "## Selección de características\n",
    "\n",
    "El modelo base sólo tiene como característica el token de la palabra.\n",
    "\n",
    "sklearn-crfsuite y python-crfsuite soporta varios formatos de características."
   ]
  },
  {
   "cell_type": "code",
   "execution_count": 6,
   "metadata": {},
   "outputs": [],
   "source": [
    "\n",
    " def shape(self,word):\n",
    "        shape = \"\"\n",
    "        for letter in word:\n",
    "            if letter.isdigit():\n",
    "                shape = shape + \"d\"\n",
    "            elif letter.isalpha():\n",
    "                if letter.isupper():\n",
    "                    shape = shape + \"W\"\n",
    "                else:\n",
    "                    shape = shape + \"w\"\n",
    "            else:\n",
    "                shape = shape + letter\n",
    "        return shape"
   ]
  },
  {
   "cell_type": "markdown",
   "metadata": {},
   "source": [
    "# Características o features de forma y vecindad"
   ]
  },
  {
   "cell_type": "markdown",
   "metadata": {},
   "source": [
    "1. Postag de  cada palabra con ventana a la izquierda y a la derecha\n",
    "2. Palabras sólo minúsculas\n",
    "3. Ventanas de palabras del token \n",
    "4. La palabra es título, es mayúscula, es dígito.\n",
    "5. Postag de las palabras alrededor."
   ]
  },
  {
   "cell_type": "code",
   "execution_count": 7,
   "metadata": {},
   "outputs": [],
   "source": [
    "def word2features(sent, i):\n",
    "    word = sent[i][0]\n",
    "    postag = sent[i][1]\n",
    "\n",
    "    features = {\n",
    "        'bias': 1.0,\n",
    "        'word.lower()': word.lower(),\n",
    "        'word[-3:]': word[-3:],\n",
    "        'word[-2:]': word[-2:],\n",
    "        'word.isupper()': word.isupper(),\n",
    "        'word.istitle()': word.istitle(),\n",
    "        'word.isdigit()': word.isdigit(),\n",
    "        'postag': postag,\n",
    "        'postag[:2]': postag[:2],\n",
    "    }\n",
    "    if i > 0:\n",
    "        word1 = sent[i-1][0]\n",
    "        postag1 = sent[i-1][1]\n",
    "        features.update({\n",
    "            '-1:word.lower()': word1.lower(),\n",
    "            '-1:word.istitle()': word1.istitle(),\n",
    "            '-1:word.isupper()': word1.isupper(),\n",
    "            '-1:postag': postag1,\n",
    "            '-1:postag[:2]': postag1[:2],\n",
    "        })\n",
    "    else:\n",
    "        features['BOS'] = True\n",
    "\n",
    "    if i < len(sent)-1:\n",
    "        word1 = sent[i+1][0]\n",
    "        postag1 = sent[i+1][1]\n",
    "        features.update({\n",
    "            '+1:word.lower()': word1.lower(),\n",
    "            '+1:word.istitle()': word1.istitle(),\n",
    "            '+1:word.isupper()': word1.isupper(),\n",
    "            '+1:postag': postag1,\n",
    "            '+1:postag[:2]': postag1[:2],\n",
    "        })\n",
    "    else:\n",
    "        features['EOS'] = True\n",
    "\n",
    "    return features\n",
    "\n",
    "\n",
    "\n",
    "\n",
    "def sent2features(sent):\n",
    "    return [word2features(sent, i) for i in range(len(sent))]\n",
    "\n",
    "def sent2labels(sent):\n",
    "    return [label for token, postag, label in sent]\n",
    "\n",
    "def sent2tokens(sent):\n",
    "    return [token for token, postag, label in sent]"
   ]
  },
  {
   "cell_type": "code",
   "execution_count": 8,
   "metadata": {},
   "outputs": [
    {
     "data": {
      "text/plain": [
       "{'bias': 1.0,\n",
       " 'word.lower()': 'melbourne',\n",
       " 'word[-3:]': 'rne',\n",
       " 'word[-2:]': 'ne',\n",
       " 'word.isupper()': False,\n",
       " 'word.istitle()': True,\n",
       " 'word.isdigit()': False,\n",
       " 'postag': 'NP',\n",
       " 'postag[:2]': 'NP',\n",
       " 'BOS': True,\n",
       " '+1:word.lower()': '(',\n",
       " '+1:word.istitle()': False,\n",
       " '+1:word.isupper()': False,\n",
       " '+1:postag': 'Fpa',\n",
       " '+1:postag[:2]': 'Fp'}"
      ]
     },
     "execution_count": 8,
     "metadata": {},
     "output_type": "execute_result"
    }
   ],
   "source": [
    "sent2features(train_sents[0])[0]"
   ]
  },
  {
   "cell_type": "markdown",
   "metadata": {},
   "source": [
    "Se extraen las características para cada sentencia de entrenamiento, sent2features; extrae las características de forma de cada palabra, sent2labels, obtiene la etiqueta de la palabra y sent2tokens el token de la palabra."
   ]
  },
  {
   "cell_type": "code",
   "execution_count": 9,
   "metadata": {},
   "outputs": [
    {
     "name": "stdout",
     "output_type": "stream",
     "text": [
      "B-LOC\n",
      "Melbourne\n"
     ]
    }
   ],
   "source": [
    "#print(sent2features(train_sents[0])[0])\n",
    "print(sent2labels(train_sents[0])[0])\n",
    "print(sent2tokens(train_sents[0])[0])"
   ]
  },
  {
   "cell_type": "markdown",
   "metadata": {},
   "source": [
    "Se genera el conjunto de entrenamiento y el de testeo con la información de las características de forma del token y el postag."
   ]
  },
  {
   "cell_type": "code",
   "execution_count": 10,
   "metadata": {},
   "outputs": [
    {
     "name": "stdout",
     "output_type": "stream",
     "text": [
      "CPU times: user 469 ms, sys: 36.4 ms, total: 505 ms\n",
      "Wall time: 504 ms\n"
     ]
    }
   ],
   "source": [
    "%%time\n",
    "X_train = [sent2features(s) for s in train_sents]\n",
    "y_train = [sent2labels(s) for s in train_sents]\n",
    "\n",
    "X_test = [sent2features(s) for s in test_sents]\n",
    "y_test = [sent2labels(s) for s in test_sents]"
   ]
  },
  {
   "cell_type": "code",
   "execution_count": 11,
   "metadata": {},
   "outputs": [
    {
     "name": "stdout",
     "output_type": "stream",
     "text": [
      "[{'bias': 1.0, 'word.lower()': 'las', 'word[-3:]': 'Las', 'word[-2:]': 'as', 'word.isupper()': False, 'word.istitle()': True, 'word.isdigit()': False, 'postag': 'DA', 'postag[:2]': 'DA', 'BOS': True, '+1:word.lower()': 'reservas', '+1:word.istitle()': False, '+1:word.isupper()': False, '+1:postag': 'NC', '+1:postag[:2]': 'NC'}, {'bias': 1.0, 'word.lower()': 'reservas', 'word[-3:]': 'vas', 'word[-2:]': 'as', 'word.isupper()': False, 'word.istitle()': False, 'word.isdigit()': False, 'postag': 'NC', 'postag[:2]': 'NC', '-1:word.lower()': 'las', '-1:word.istitle()': True, '-1:word.isupper()': False, '-1:postag': 'DA', '-1:postag[:2]': 'DA', '+1:word.lower()': '\"', '+1:word.istitle()': False, '+1:word.isupper()': False, '+1:postag': 'Fe', '+1:postag[:2]': 'Fe'}, {'bias': 1.0, 'word.lower()': '\"', 'word[-3:]': '\"', 'word[-2:]': '\"', 'word.isupper()': False, 'word.istitle()': False, 'word.isdigit()': False, 'postag': 'Fe', 'postag[:2]': 'Fe', '-1:word.lower()': 'reservas', '-1:word.istitle()': False, '-1:word.isupper()': False, '-1:postag': 'NC', '-1:postag[:2]': 'NC', '+1:word.lower()': 'on', '+1:word.istitle()': False, '+1:word.isupper()': False, '+1:postag': 'NC', '+1:postag[:2]': 'NC'}, {'bias': 1.0, 'word.lower()': 'on', 'word[-3:]': 'on', 'word[-2:]': 'on', 'word.isupper()': False, 'word.istitle()': False, 'word.isdigit()': False, 'postag': 'NC', 'postag[:2]': 'NC', '-1:word.lower()': '\"', '-1:word.istitle()': False, '-1:word.isupper()': False, '-1:postag': 'Fe', '-1:postag[:2]': 'Fe', '+1:word.lower()': 'line', '+1:word.istitle()': False, '+1:word.isupper()': False, '+1:postag': 'AQ', '+1:postag[:2]': 'AQ'}, {'bias': 1.0, 'word.lower()': 'line', 'word[-3:]': 'ine', 'word[-2:]': 'ne', 'word.isupper()': False, 'word.istitle()': False, 'word.isdigit()': False, 'postag': 'AQ', 'postag[:2]': 'AQ', '-1:word.lower()': 'on', '-1:word.istitle()': False, '-1:word.isupper()': False, '-1:postag': 'NC', '-1:postag[:2]': 'NC', '+1:word.lower()': '\"', '+1:word.istitle()': False, '+1:word.isupper()': False, '+1:postag': 'Fe', '+1:postag[:2]': 'Fe'}, {'bias': 1.0, 'word.lower()': '\"', 'word[-3:]': '\"', 'word[-2:]': '\"', 'word.isupper()': False, 'word.istitle()': False, 'word.isdigit()': False, 'postag': 'Fe', 'postag[:2]': 'Fe', '-1:word.lower()': 'line', '-1:word.istitle()': False, '-1:word.isupper()': False, '-1:postag': 'AQ', '-1:postag[:2]': 'AQ', '+1:word.lower()': 'de', '+1:word.istitle()': False, '+1:word.isupper()': False, '+1:postag': 'SP', '+1:postag[:2]': 'SP'}, {'bias': 1.0, 'word.lower()': 'de', 'word[-3:]': 'de', 'word[-2:]': 'de', 'word.isupper()': False, 'word.istitle()': False, 'word.isdigit()': False, 'postag': 'SP', 'postag[:2]': 'SP', '-1:word.lower()': '\"', '-1:word.istitle()': False, '-1:word.isupper()': False, '-1:postag': 'Fe', '-1:postag[:2]': 'Fe', '+1:word.lower()': 'billetes', '+1:word.istitle()': False, '+1:word.isupper()': False, '+1:postag': 'NC', '+1:postag[:2]': 'NC'}, {'bias': 1.0, 'word.lower()': 'billetes', 'word[-3:]': 'tes', 'word[-2:]': 'es', 'word.isupper()': False, 'word.istitle()': False, 'word.isdigit()': False, 'postag': 'NC', 'postag[:2]': 'NC', '-1:word.lower()': 'de', '-1:word.istitle()': False, '-1:word.isupper()': False, '-1:postag': 'SP', '-1:postag[:2]': 'SP', '+1:word.lower()': 'aéreos', '+1:word.istitle()': False, '+1:word.isupper()': False, '+1:postag': 'AQ', '+1:postag[:2]': 'AQ'}, {'bias': 1.0, 'word.lower()': 'aéreos', 'word[-3:]': 'eos', 'word[-2:]': 'os', 'word.isupper()': False, 'word.istitle()': False, 'word.isdigit()': False, 'postag': 'AQ', 'postag[:2]': 'AQ', '-1:word.lower()': 'billetes', '-1:word.istitle()': False, '-1:word.isupper()': False, '-1:postag': 'NC', '-1:postag[:2]': 'NC', '+1:word.lower()': 'a', '+1:word.istitle()': False, '+1:word.isupper()': False, '+1:postag': 'SP', '+1:postag[:2]': 'SP'}, {'bias': 1.0, 'word.lower()': 'a', 'word[-3:]': 'a', 'word[-2:]': 'a', 'word.isupper()': False, 'word.istitle()': False, 'word.isdigit()': False, 'postag': 'SP', 'postag[:2]': 'SP', '-1:word.lower()': 'aéreos', '-1:word.istitle()': False, '-1:word.isupper()': False, '-1:postag': 'AQ', '-1:postag[:2]': 'AQ', '+1:word.lower()': 'través', '+1:word.istitle()': False, '+1:word.isupper()': False, '+1:postag': 'NC', '+1:postag[:2]': 'NC'}, {'bias': 1.0, 'word.lower()': 'través', 'word[-3:]': 'vés', 'word[-2:]': 'és', 'word.isupper()': False, 'word.istitle()': False, 'word.isdigit()': False, 'postag': 'NC', 'postag[:2]': 'NC', '-1:word.lower()': 'a', '-1:word.istitle()': False, '-1:word.isupper()': False, '-1:postag': 'SP', '-1:postag[:2]': 'SP', '+1:word.lower()': 'de', '+1:word.istitle()': False, '+1:word.isupper()': False, '+1:postag': 'SP', '+1:postag[:2]': 'SP'}, {'bias': 1.0, 'word.lower()': 'de', 'word[-3:]': 'de', 'word[-2:]': 'de', 'word.isupper()': False, 'word.istitle()': False, 'word.isdigit()': False, 'postag': 'SP', 'postag[:2]': 'SP', '-1:word.lower()': 'través', '-1:word.istitle()': False, '-1:word.isupper()': False, '-1:postag': 'NC', '-1:postag[:2]': 'NC', '+1:word.lower()': 'internet', '+1:word.istitle()': True, '+1:word.isupper()': False, '+1:postag': 'NC', '+1:postag[:2]': 'NC'}, {'bias': 1.0, 'word.lower()': 'internet', 'word[-3:]': 'net', 'word[-2:]': 'et', 'word.isupper()': False, 'word.istitle()': True, 'word.isdigit()': False, 'postag': 'NC', 'postag[:2]': 'NC', '-1:word.lower()': 'de', '-1:word.istitle()': False, '-1:word.isupper()': False, '-1:postag': 'SP', '-1:postag[:2]': 'SP', '+1:word.lower()': 'aumentaron', '+1:word.istitle()': False, '+1:word.isupper()': False, '+1:postag': 'VMI', '+1:postag[:2]': 'VM'}, {'bias': 1.0, 'word.lower()': 'aumentaron', 'word[-3:]': 'ron', 'word[-2:]': 'on', 'word.isupper()': False, 'word.istitle()': False, 'word.isdigit()': False, 'postag': 'VMI', 'postag[:2]': 'VM', '-1:word.lower()': 'internet', '-1:word.istitle()': True, '-1:word.isupper()': False, '-1:postag': 'NC', '-1:postag[:2]': 'NC', '+1:word.lower()': 'en', '+1:word.istitle()': False, '+1:word.isupper()': False, '+1:postag': 'SP', '+1:postag[:2]': 'SP'}, {'bias': 1.0, 'word.lower()': 'en', 'word[-3:]': 'en', 'word[-2:]': 'en', 'word.isupper()': False, 'word.istitle()': False, 'word.isdigit()': False, 'postag': 'SP', 'postag[:2]': 'SP', '-1:word.lower()': 'aumentaron', '-1:word.istitle()': False, '-1:word.isupper()': False, '-1:postag': 'VMI', '-1:postag[:2]': 'VM', '+1:word.lower()': 'españa', '+1:word.istitle()': True, '+1:word.isupper()': False, '+1:postag': 'VMN', '+1:postag[:2]': 'VM'}, {'bias': 1.0, 'word.lower()': 'españa', 'word[-3:]': 'aña', 'word[-2:]': 'ña', 'word.isupper()': False, 'word.istitle()': True, 'word.isdigit()': False, 'postag': 'VMN', 'postag[:2]': 'VM', '-1:word.lower()': 'en', '-1:word.istitle()': False, '-1:word.isupper()': False, '-1:postag': 'SP', '-1:postag[:2]': 'SP', '+1:word.lower()': 'un', '+1:word.istitle()': False, '+1:word.isupper()': False, '+1:postag': 'DI', '+1:postag[:2]': 'DI'}, {'bias': 1.0, 'word.lower()': 'un', 'word[-3:]': 'un', 'word[-2:]': 'un', 'word.isupper()': False, 'word.istitle()': False, 'word.isdigit()': False, 'postag': 'DI', 'postag[:2]': 'DI', '-1:word.lower()': 'españa', '-1:word.istitle()': True, '-1:word.isupper()': False, '-1:postag': 'VMN', '-1:postag[:2]': 'VM', '+1:word.lower()': '300', '+1:word.istitle()': False, '+1:word.isupper()': False, '+1:postag': 'Z', '+1:postag[:2]': 'Z'}, {'bias': 1.0, 'word.lower()': '300', 'word[-3:]': '300', 'word[-2:]': '00', 'word.isupper()': False, 'word.istitle()': False, 'word.isdigit()': True, 'postag': 'Z', 'postag[:2]': 'Z', '-1:word.lower()': 'un', '-1:word.istitle()': False, '-1:word.isupper()': False, '-1:postag': 'DI', '-1:postag[:2]': 'DI', '+1:word.lower()': 'por', '+1:word.istitle()': False, '+1:word.isupper()': False, '+1:postag': 'SP', '+1:postag[:2]': 'SP'}, {'bias': 1.0, 'word.lower()': 'por', 'word[-3:]': 'por', 'word[-2:]': 'or', 'word.isupper()': False, 'word.istitle()': False, 'word.isdigit()': False, 'postag': 'SP', 'postag[:2]': 'SP', '-1:word.lower()': '300', '-1:word.istitle()': False, '-1:word.isupper()': False, '-1:postag': 'Z', '-1:postag[:2]': 'Z', '+1:word.lower()': 'ciento', '+1:word.istitle()': False, '+1:word.isupper()': False, '+1:postag': 'PN', '+1:postag[:2]': 'PN'}, {'bias': 1.0, 'word.lower()': 'ciento', 'word[-3:]': 'nto', 'word[-2:]': 'to', 'word.isupper()': False, 'word.istitle()': False, 'word.isdigit()': False, 'postag': 'PN', 'postag[:2]': 'PN', '-1:word.lower()': 'por', '-1:word.istitle()': False, '-1:word.isupper()': False, '-1:postag': 'SP', '-1:postag[:2]': 'SP', '+1:word.lower()': 'en', '+1:word.istitle()': False, '+1:word.isupper()': False, '+1:postag': 'SP', '+1:postag[:2]': 'SP'}, {'bias': 1.0, 'word.lower()': 'en', 'word[-3:]': 'en', 'word[-2:]': 'en', 'word.isupper()': False, 'word.istitle()': False, 'word.isdigit()': False, 'postag': 'SP', 'postag[:2]': 'SP', '-1:word.lower()': 'ciento', '-1:word.istitle()': False, '-1:word.isupper()': False, '-1:postag': 'PN', '-1:postag[:2]': 'PN', '+1:word.lower()': 'el', '+1:word.istitle()': False, '+1:word.isupper()': False, '+1:postag': 'DA', '+1:postag[:2]': 'DA'}, {'bias': 1.0, 'word.lower()': 'el', 'word[-3:]': 'el', 'word[-2:]': 'el', 'word.isupper()': False, 'word.istitle()': False, 'word.isdigit()': False, 'postag': 'DA', 'postag[:2]': 'DA', '-1:word.lower()': 'en', '-1:word.istitle()': False, '-1:word.isupper()': False, '-1:postag': 'SP', '-1:postag[:2]': 'SP', '+1:word.lower()': 'primer', '+1:word.istitle()': False, '+1:word.isupper()': False, '+1:postag': 'AO', '+1:postag[:2]': 'AO'}, {'bias': 1.0, 'word.lower()': 'primer', 'word[-3:]': 'mer', 'word[-2:]': 'er', 'word.isupper()': False, 'word.istitle()': False, 'word.isdigit()': False, 'postag': 'AO', 'postag[:2]': 'AO', '-1:word.lower()': 'el', '-1:word.istitle()': False, '-1:word.isupper()': False, '-1:postag': 'DA', '-1:postag[:2]': 'DA', '+1:word.lower()': 'trimestre', '+1:word.istitle()': False, '+1:word.isupper()': False, '+1:postag': 'NC', '+1:postag[:2]': 'NC'}, {'bias': 1.0, 'word.lower()': 'trimestre', 'word[-3:]': 'tre', 'word[-2:]': 're', 'word.isupper()': False, 'word.istitle()': False, 'word.isdigit()': False, 'postag': 'NC', 'postag[:2]': 'NC', '-1:word.lower()': 'primer', '-1:word.istitle()': False, '-1:word.isupper()': False, '-1:postag': 'AO', '-1:postag[:2]': 'AO', '+1:word.lower()': 'de', '+1:word.istitle()': False, '+1:word.isupper()': False, '+1:postag': 'SP', '+1:postag[:2]': 'SP'}, {'bias': 1.0, 'word.lower()': 'de', 'word[-3:]': 'de', 'word[-2:]': 'de', 'word.isupper()': False, 'word.istitle()': False, 'word.isdigit()': False, 'postag': 'SP', 'postag[:2]': 'SP', '-1:word.lower()': 'trimestre', '-1:word.istitle()': False, '-1:word.isupper()': False, '-1:postag': 'NC', '-1:postag[:2]': 'NC', '+1:word.lower()': 'este', '+1:word.istitle()': False, '+1:word.isupper()': False, '+1:postag': 'DD', '+1:postag[:2]': 'DD'}, {'bias': 1.0, 'word.lower()': 'este', 'word[-3:]': 'ste', 'word[-2:]': 'te', 'word.isupper()': False, 'word.istitle()': False, 'word.isdigit()': False, 'postag': 'DD', 'postag[:2]': 'DD', '-1:word.lower()': 'de', '-1:word.istitle()': False, '-1:word.isupper()': False, '-1:postag': 'SP', '-1:postag[:2]': 'SP', '+1:word.lower()': 'año', '+1:word.istitle()': False, '+1:word.isupper()': False, '+1:postag': 'NC', '+1:postag[:2]': 'NC'}, {'bias': 1.0, 'word.lower()': 'año', 'word[-3:]': 'año', 'word[-2:]': 'ño', 'word.isupper()': False, 'word.istitle()': False, 'word.isdigit()': False, 'postag': 'NC', 'postag[:2]': 'NC', '-1:word.lower()': 'este', '-1:word.istitle()': False, '-1:word.isupper()': False, '-1:postag': 'DD', '-1:postag[:2]': 'DD', '+1:word.lower()': 'con', '+1:word.istitle()': False, '+1:word.isupper()': False, '+1:postag': 'SP', '+1:postag[:2]': 'SP'}, {'bias': 1.0, 'word.lower()': 'con', 'word[-3:]': 'con', 'word[-2:]': 'on', 'word.isupper()': False, 'word.istitle()': False, 'word.isdigit()': False, 'postag': 'SP', 'postag[:2]': 'SP', '-1:word.lower()': 'año', '-1:word.istitle()': False, '-1:word.isupper()': False, '-1:postag': 'NC', '-1:postag[:2]': 'NC', '+1:word.lower()': 'respecto', '+1:word.istitle()': False, '+1:word.isupper()': False, '+1:postag': 'NC', '+1:postag[:2]': 'NC'}, {'bias': 1.0, 'word.lower()': 'respecto', 'word[-3:]': 'cto', 'word[-2:]': 'to', 'word.isupper()': False, 'word.istitle()': False, 'word.isdigit()': False, 'postag': 'NC', 'postag[:2]': 'NC', '-1:word.lower()': 'con', '-1:word.istitle()': False, '-1:word.isupper()': False, '-1:postag': 'SP', '-1:postag[:2]': 'SP', '+1:word.lower()': 'al', '+1:word.istitle()': False, '+1:word.isupper()': False, '+1:postag': 'SP', '+1:postag[:2]': 'SP'}, {'bias': 1.0, 'word.lower()': 'al', 'word[-3:]': 'al', 'word[-2:]': 'al', 'word.isupper()': False, 'word.istitle()': False, 'word.isdigit()': False, 'postag': 'SP', 'postag[:2]': 'SP', '-1:word.lower()': 'respecto', '-1:word.istitle()': False, '-1:word.isupper()': False, '-1:postag': 'NC', '-1:postag[:2]': 'NC', '+1:word.lower()': 'mismo', '+1:word.istitle()': False, '+1:word.isupper()': False, '+1:postag': 'DI', '+1:postag[:2]': 'DI'}, {'bias': 1.0, 'word.lower()': 'mismo', 'word[-3:]': 'smo', 'word[-2:]': 'mo', 'word.isupper()': False, 'word.istitle()': False, 'word.isdigit()': False, 'postag': 'DI', 'postag[:2]': 'DI', '-1:word.lower()': 'al', '-1:word.istitle()': False, '-1:word.isupper()': False, '-1:postag': 'SP', '-1:postag[:2]': 'SP', '+1:word.lower()': 'período', '+1:word.istitle()': False, '+1:word.isupper()': False, '+1:postag': 'NC', '+1:postag[:2]': 'NC'}, {'bias': 1.0, 'word.lower()': 'período', 'word[-3:]': 'odo', 'word[-2:]': 'do', 'word.isupper()': False, 'word.istitle()': False, 'word.isdigit()': False, 'postag': 'NC', 'postag[:2]': 'NC', '-1:word.lower()': 'mismo', '-1:word.istitle()': False, '-1:word.isupper()': False, '-1:postag': 'DI', '-1:postag[:2]': 'DI', '+1:word.lower()': 'de', '+1:word.istitle()': False, '+1:word.isupper()': False, '+1:postag': 'SP', '+1:postag[:2]': 'SP'}, {'bias': 1.0, 'word.lower()': 'de', 'word[-3:]': 'de', 'word[-2:]': 'de', 'word.isupper()': False, 'word.istitle()': False, 'word.isdigit()': False, 'postag': 'SP', 'postag[:2]': 'SP', '-1:word.lower()': 'período', '-1:word.istitle()': False, '-1:word.isupper()': False, '-1:postag': 'NC', '-1:postag[:2]': 'NC', '+1:word.lower()': '1999', '+1:word.istitle()': False, '+1:word.isupper()': False, '+1:postag': 'Z', '+1:postag[:2]': 'Z'}, {'bias': 1.0, 'word.lower()': '1999', 'word[-3:]': '999', 'word[-2:]': '99', 'word.isupper()': False, 'word.istitle()': False, 'word.isdigit()': True, 'postag': 'Z', 'postag[:2]': 'Z', '-1:word.lower()': 'de', '-1:word.istitle()': False, '-1:word.isupper()': False, '-1:postag': 'SP', '-1:postag[:2]': 'SP', '+1:word.lower()': ',', '+1:word.istitle()': False, '+1:word.isupper()': False, '+1:postag': 'Fc', '+1:postag[:2]': 'Fc'}, {'bias': 1.0, 'word.lower()': ',', 'word[-3:]': ',', 'word[-2:]': ',', 'word.isupper()': False, 'word.istitle()': False, 'word.isdigit()': False, 'postag': 'Fc', 'postag[:2]': 'Fc', '-1:word.lower()': '1999', '-1:word.istitle()': False, '-1:word.isupper()': False, '-1:postag': 'Z', '-1:postag[:2]': 'Z', '+1:word.lower()': 'aseguró', '+1:word.istitle()': False, '+1:word.isupper()': False, '+1:postag': 'VMI', '+1:postag[:2]': 'VM'}, {'bias': 1.0, 'word.lower()': 'aseguró', 'word[-3:]': 'uró', 'word[-2:]': 'ró', 'word.isupper()': False, 'word.istitle()': False, 'word.isdigit()': False, 'postag': 'VMI', 'postag[:2]': 'VM', '-1:word.lower()': ',', '-1:word.istitle()': False, '-1:word.isupper()': False, '-1:postag': 'Fc', '-1:postag[:2]': 'Fc', '+1:word.lower()': 'hoy', '+1:word.istitle()': False, '+1:word.isupper()': False, '+1:postag': 'RG', '+1:postag[:2]': 'RG'}, {'bias': 1.0, 'word.lower()': 'hoy', 'word[-3:]': 'hoy', 'word[-2:]': 'oy', 'word.isupper()': False, 'word.istitle()': False, 'word.isdigit()': False, 'postag': 'RG', 'postag[:2]': 'RG', '-1:word.lower()': 'aseguró', '-1:word.istitle()': False, '-1:word.isupper()': False, '-1:postag': 'VMI', '-1:postag[:2]': 'VM', '+1:word.lower()': 'iñigo', '+1:word.istitle()': True, '+1:word.isupper()': False, '+1:postag': 'AQ', '+1:postag[:2]': 'AQ'}, {'bias': 1.0, 'word.lower()': 'iñigo', 'word[-3:]': 'igo', 'word[-2:]': 'go', 'word.isupper()': False, 'word.istitle()': True, 'word.isdigit()': False, 'postag': 'AQ', 'postag[:2]': 'AQ', '-1:word.lower()': 'hoy', '-1:word.istitle()': False, '-1:word.isupper()': False, '-1:postag': 'RG', '-1:postag[:2]': 'RG', '+1:word.lower()': 'garcía', '+1:word.istitle()': True, '+1:word.isupper()': False, '+1:postag': 'NC', '+1:postag[:2]': 'NC'}, {'bias': 1.0, 'word.lower()': 'garcía', 'word[-3:]': 'cía', 'word[-2:]': 'ía', 'word.isupper()': False, 'word.istitle()': True, 'word.isdigit()': False, 'postag': 'NC', 'postag[:2]': 'NC', '-1:word.lower()': 'iñigo', '-1:word.istitle()': True, '-1:word.isupper()': False, '-1:postag': 'AQ', '-1:postag[:2]': 'AQ', '+1:word.lower()': 'aranda', '+1:word.istitle()': True, '+1:word.isupper()': False, '+1:postag': 'AQ', '+1:postag[:2]': 'AQ'}, {'bias': 1.0, 'word.lower()': 'aranda', 'word[-3:]': 'nda', 'word[-2:]': 'da', 'word.isupper()': False, 'word.istitle()': True, 'word.isdigit()': False, 'postag': 'AQ', 'postag[:2]': 'AQ', '-1:word.lower()': 'garcía', '-1:word.istitle()': True, '-1:word.isupper()': False, '-1:postag': 'NC', '-1:postag[:2]': 'NC', '+1:word.lower()': ',', '+1:word.istitle()': False, '+1:word.isupper()': False, '+1:postag': 'Fc', '+1:postag[:2]': 'Fc'}, {'bias': 1.0, 'word.lower()': ',', 'word[-3:]': ',', 'word[-2:]': ',', 'word.isupper()': False, 'word.istitle()': False, 'word.isdigit()': False, 'postag': 'Fc', 'postag[:2]': 'Fc', '-1:word.lower()': 'aranda', '-1:word.istitle()': True, '-1:word.isupper()': False, '-1:postag': 'AQ', '-1:postag[:2]': 'AQ', '+1:word.lower()': 'responsable', '+1:word.istitle()': False, '+1:word.isupper()': False, '+1:postag': 'AQ', '+1:postag[:2]': 'AQ'}, {'bias': 1.0, 'word.lower()': 'responsable', 'word[-3:]': 'ble', 'word[-2:]': 'le', 'word.isupper()': False, 'word.istitle()': False, 'word.isdigit()': False, 'postag': 'AQ', 'postag[:2]': 'AQ', '-1:word.lower()': ',', '-1:word.istitle()': False, '-1:word.isupper()': False, '-1:postag': 'Fc', '-1:postag[:2]': 'Fc', '+1:word.lower()': 'de', '+1:word.istitle()': False, '+1:word.isupper()': False, '+1:postag': 'SP', '+1:postag[:2]': 'SP'}, {'bias': 1.0, 'word.lower()': 'de', 'word[-3:]': 'de', 'word[-2:]': 'de', 'word.isupper()': False, 'word.istitle()': False, 'word.isdigit()': False, 'postag': 'SP', 'postag[:2]': 'SP', '-1:word.lower()': 'responsable', '-1:word.istitle()': False, '-1:word.isupper()': False, '-1:postag': 'AQ', '-1:postag[:2]': 'AQ', '+1:word.lower()': 'comunicación', '+1:word.istitle()': False, '+1:word.isupper()': False, '+1:postag': 'NC', '+1:postag[:2]': 'NC'}, {'bias': 1.0, 'word.lower()': 'comunicación', 'word[-3:]': 'ión', 'word[-2:]': 'ón', 'word.isupper()': False, 'word.istitle()': False, 'word.isdigit()': False, 'postag': 'NC', 'postag[:2]': 'NC', '-1:word.lower()': 'de', '-1:word.istitle()': False, '-1:word.isupper()': False, '-1:postag': 'SP', '-1:postag[:2]': 'SP', '+1:word.lower()': 'de', '+1:word.istitle()': False, '+1:word.isupper()': False, '+1:postag': 'SP', '+1:postag[:2]': 'SP'}, {'bias': 1.0, 'word.lower()': 'de', 'word[-3:]': 'de', 'word[-2:]': 'de', 'word.isupper()': False, 'word.istitle()': False, 'word.isdigit()': False, 'postag': 'SP', 'postag[:2]': 'SP', '-1:word.lower()': 'comunicación', '-1:word.istitle()': False, '-1:word.isupper()': False, '-1:postag': 'NC', '-1:postag[:2]': 'NC', '+1:word.lower()': 'savia', '+1:word.istitle()': True, '+1:word.isupper()': False, '+1:postag': 'NC', '+1:postag[:2]': 'NC'}, {'bias': 1.0, 'word.lower()': 'savia', 'word[-3:]': 'via', 'word[-2:]': 'ia', 'word.isupper()': False, 'word.istitle()': True, 'word.isdigit()': False, 'postag': 'NC', 'postag[:2]': 'NC', '-1:word.lower()': 'de', '-1:word.istitle()': False, '-1:word.isupper()': False, '-1:postag': 'SP', '-1:postag[:2]': 'SP', '+1:word.lower()': 'amadeus', '+1:word.istitle()': True, '+1:word.isupper()': False, '+1:postag': 'AQ', '+1:postag[:2]': 'AQ'}, {'bias': 1.0, 'word.lower()': 'amadeus', 'word[-3:]': 'eus', 'word[-2:]': 'us', 'word.isupper()': False, 'word.istitle()': True, 'word.isdigit()': False, 'postag': 'AQ', 'postag[:2]': 'AQ', '-1:word.lower()': 'savia', '-1:word.istitle()': True, '-1:word.isupper()': False, '-1:postag': 'NC', '-1:postag[:2]': 'NC', '+1:word.lower()': '.', '+1:word.istitle()': False, '+1:word.isupper()': False, '+1:postag': 'Fp', '+1:postag[:2]': 'Fp'}, {'bias': 1.0, 'word.lower()': '.', 'word[-3:]': '.', 'word[-2:]': '.', 'word.isupper()': False, 'word.istitle()': False, 'word.isdigit()': False, 'postag': 'Fp', 'postag[:2]': 'Fp', '-1:word.lower()': 'amadeus', '-1:word.istitle()': True, '-1:word.isupper()': False, '-1:postag': 'AQ', '-1:postag[:2]': 'AQ', 'EOS': True}]\n"
     ]
    }
   ],
   "source": [
    "print(X_test[2])"
   ]
  },
  {
   "cell_type": "markdown",
   "metadata": {},
   "source": [
    "## Entrenamiento del modelo usando CRFsuite\n",
    "El algoritmo de entrenamiento está basado en el algoritmo L-BFGS con estándares de regularización. El algoritmo LBFGS está basado en el método de Newton Rapshon y sirve para optimización nolineal. Los CRFs son funciones de regresión logística nolineal."
   ]
  },
  {
   "cell_type": "code",
   "execution_count": 12,
   "metadata": {},
   "outputs": [
    {
     "name": "stdout",
     "output_type": "stream",
     "text": [
      "CPU times: user 43.6 s, sys: 16.8 ms, total: 43.7 s\n",
      "Wall time: 43.7 s\n"
     ]
    },
    {
     "name": "stderr",
     "output_type": "stream",
     "text": [
      "/usr/local/lib/python3.6/dist-packages/sklearn/base.py:213: FutureWarning: From version 0.24, get_params will raise an AttributeError if a parameter cannot be retrieved as an instance attribute. Previously it would return None.\n",
      "  FutureWarning)\n"
     ]
    },
    {
     "data": {
      "text/plain": [
       "CRF(algorithm='lbfgs', all_possible_transitions=True, c1=0.1, c2=0.1,\n",
       "    keep_tempfiles=None, max_iterations=200)"
      ]
     },
     "execution_count": 12,
     "metadata": {},
     "output_type": "execute_result"
    }
   ],
   "source": [
    "%%time\n",
    "crf = sklearn_crfsuite.CRF(\n",
    "    algorithm='lbfgs', \n",
    "    c1=0.1, \n",
    "    c2=0.1, \n",
    "    max_iterations=200, \n",
    "    all_possible_transitions=True\n",
    ")\n",
    "crf.fit(X_train, y_train)"
   ]
  },
  {
   "cell_type": "markdown",
   "metadata": {},
   "source": [
    "## Evaluación\n",
    "Se evalua el desempeño del clasificador basado en CRF comparando la predicción del conjunto de testro X_test en contra del conjunto de testeo de etiquetas y_test."
   ]
  },
  {
   "cell_type": "code",
   "execution_count": 13,
   "metadata": {},
   "outputs": [
    {
     "data": {
      "text/plain": [
       "['B-LOC', 'B-ORG', 'B-PER', 'I-PER', 'B-MISC', 'I-ORG', 'I-LOC', 'I-MISC']"
      ]
     },
     "execution_count": 13,
     "metadata": {},
     "output_type": "execute_result"
    }
   ],
   "source": [
    "labels = list(crf.classes_)\n",
    "labels.remove('O')\n",
    "labels"
   ]
  },
  {
   "cell_type": "code",
   "execution_count": 23,
   "metadata": {},
   "outputs": [
    {
     "name": "stdout",
     "output_type": "stream",
     "text": [
      "[{'bias': 1.0, 'word.lower()': 'la', 'word[-3:]': 'La', 'word[-2:]': 'La', 'word.isupper()': False, 'word.istitle()': True, 'word.isdigit()': False, 'postag': 'DA', 'postag[:2]': 'DA', 'BOS': True, '+1:word.lower()': 'coruña', '+1:word.istitle()': True, '+1:word.isupper()': False, '+1:postag': 'NC', '+1:postag[:2]': 'NC'}, {'bias': 1.0, 'word.lower()': 'coruña', 'word[-3:]': 'uña', 'word[-2:]': 'ña', 'word.isupper()': False, 'word.istitle()': True, 'word.isdigit()': False, 'postag': 'NC', 'postag[:2]': 'NC', '-1:word.lower()': 'la', '-1:word.istitle()': True, '-1:word.isupper()': False, '-1:postag': 'DA', '-1:postag[:2]': 'DA', '+1:word.lower()': ',', '+1:word.istitle()': False, '+1:word.isupper()': False, '+1:postag': 'Fc', '+1:postag[:2]': 'Fc'}, {'bias': 1.0, 'word.lower()': ',', 'word[-3:]': ',', 'word[-2:]': ',', 'word.isupper()': False, 'word.istitle()': False, 'word.isdigit()': False, 'postag': 'Fc', 'postag[:2]': 'Fc', '-1:word.lower()': 'coruña', '-1:word.istitle()': True, '-1:word.isupper()': False, '-1:postag': 'NC', '-1:postag[:2]': 'NC', '+1:word.lower()': '23', '+1:word.istitle()': False, '+1:word.isupper()': False, '+1:postag': 'Z', '+1:postag[:2]': 'Z'}, {'bias': 1.0, 'word.lower()': '23', 'word[-3:]': '23', 'word[-2:]': '23', 'word.isupper()': False, 'word.istitle()': False, 'word.isdigit()': True, 'postag': 'Z', 'postag[:2]': 'Z', '-1:word.lower()': ',', '-1:word.istitle()': False, '-1:word.isupper()': False, '-1:postag': 'Fc', '-1:postag[:2]': 'Fc', '+1:word.lower()': 'may', '+1:word.istitle()': False, '+1:word.isupper()': False, '+1:postag': 'NC', '+1:postag[:2]': 'NC'}, {'bias': 1.0, 'word.lower()': 'may', 'word[-3:]': 'may', 'word[-2:]': 'ay', 'word.isupper()': False, 'word.istitle()': False, 'word.isdigit()': False, 'postag': 'NC', 'postag[:2]': 'NC', '-1:word.lower()': '23', '-1:word.istitle()': False, '-1:word.isupper()': False, '-1:postag': 'Z', '-1:postag[:2]': 'Z', '+1:word.lower()': '(', '+1:word.istitle()': False, '+1:word.isupper()': False, '+1:postag': 'Fpa', '+1:postag[:2]': 'Fp'}, {'bias': 1.0, 'word.lower()': '(', 'word[-3:]': '(', 'word[-2:]': '(', 'word.isupper()': False, 'word.istitle()': False, 'word.isdigit()': False, 'postag': 'Fpa', 'postag[:2]': 'Fp', '-1:word.lower()': 'may', '-1:word.istitle()': False, '-1:word.isupper()': False, '-1:postag': 'NC', '-1:postag[:2]': 'NC', '+1:word.lower()': 'efecom', '+1:word.istitle()': False, '+1:word.isupper()': True, '+1:postag': 'NP', '+1:postag[:2]': 'NP'}, {'bias': 1.0, 'word.lower()': 'efecom', 'word[-3:]': 'COM', 'word[-2:]': 'OM', 'word.isupper()': True, 'word.istitle()': False, 'word.isdigit()': False, 'postag': 'NP', 'postag[:2]': 'NP', '-1:word.lower()': '(', '-1:word.istitle()': False, '-1:word.isupper()': False, '-1:postag': 'Fpa', '-1:postag[:2]': 'Fp', '+1:word.lower()': ')', '+1:word.istitle()': False, '+1:word.isupper()': False, '+1:postag': 'Fpt', '+1:postag[:2]': 'Fp'}, {'bias': 1.0, 'word.lower()': ')', 'word[-3:]': ')', 'word[-2:]': ')', 'word.isupper()': False, 'word.istitle()': False, 'word.isdigit()': False, 'postag': 'Fpt', 'postag[:2]': 'Fp', '-1:word.lower()': 'efecom', '-1:word.istitle()': False, '-1:word.isupper()': True, '-1:postag': 'NP', '-1:postag[:2]': 'NP', '+1:word.lower()': '.', '+1:word.istitle()': False, '+1:word.isupper()': False, '+1:postag': 'Fp', '+1:postag[:2]': 'Fp'}, {'bias': 1.0, 'word.lower()': '.', 'word[-3:]': '.', 'word[-2:]': '.', 'word.isupper()': False, 'word.istitle()': False, 'word.isdigit()': False, 'postag': 'Fp', 'postag[:2]': 'Fp', '-1:word.lower()': ')', '-1:word.istitle()': False, '-1:word.isupper()': False, '-1:postag': 'Fpt', '-1:postag[:2]': 'Fp', 'EOS': True}]\n",
      "['B-LOC', 'I-LOC', 'O', 'O', 'O', 'O', 'B-ORG', 'O', 'O']\n"
     ]
    },
    {
     "data": {
      "text/plain": [
       "0.8001188546978065"
      ]
     },
     "execution_count": 23,
     "metadata": {},
     "output_type": "execute_result"
    }
   ],
   "source": [
    "y_pred = crf.predict(X_test)\n",
    "print(X_test[0])\n",
    "print(y_pred[0])\n",
    "metrics.flat_f1_score(y_test, y_pred, \n",
    "                      average='weighted', labels=labels)"
   ]
  },
  {
   "cell_type": "markdown",
   "metadata": {},
   "source": [
    "Inspect per-class results in more detail:"
   ]
  },
  {
   "cell_type": "code",
   "execution_count": 15,
   "metadata": {},
   "outputs": [
    {
     "name": "stderr",
     "output_type": "stream",
     "text": [
      "/usr/local/lib/python3.6/dist-packages/sklearn/utils/validation.py:70: FutureWarning: Pass labels=['B-LOC', 'I-LOC', 'B-MISC', 'I-MISC', 'B-ORG', 'I-ORG', 'B-PER', 'I-PER'] as keyword args. From version 0.25 passing these as positional arguments will result in an error\n",
      "  FutureWarning)\n"
     ]
    },
    {
     "name": "stdout",
     "output_type": "stream",
     "text": [
      "              precision    recall  f1-score   support\n",
      "\n",
      "       B-LOC      0.813     0.787     0.800      1084\n",
      "       I-LOC      0.697     0.643     0.669       325\n",
      "      B-MISC      0.717     0.560     0.629       339\n",
      "      I-MISC      0.725     0.621     0.669       557\n",
      "       B-ORG      0.813     0.834     0.823      1400\n",
      "       I-ORG      0.860     0.789     0.823      1104\n",
      "       B-PER      0.844     0.888     0.865       735\n",
      "       I-PER      0.878     0.940     0.908       634\n",
      "\n",
      "   micro avg      0.815     0.791     0.803      6178\n",
      "   macro avg      0.793     0.758     0.773      6178\n",
      "weighted avg      0.812     0.791     0.800      6178\n",
      "\n"
     ]
    }
   ],
   "source": [
    "# group B and I results\n",
    "sorted_labels = sorted(\n",
    "    labels, \n",
    "    key=lambda name: (name[1:], name[0])\n",
    ")\n",
    "print(metrics.flat_classification_report(\n",
    "    y_test, y_pred, labels=sorted_labels, digits=3\n",
    "))"
   ]
  },
  {
   "cell_type": "markdown",
   "metadata": {},
   "source": [
    "# Testeo de una sentencia que no está en el conjunto de testeo de conll2002\n",
    "La sentencia de entrada tiene como entradas el token  y el postag ye estas deben ser preprocesadas con toda la información de las características de ventanas, forma, cercanía, etc. El clasificador deberá predecir la etiqueta correspondiente. Por lo tanto se debe realizar un preprocesamiento a cada palabra de la sentencia usando la función word2features con el fin de extraer el cunjunto de features de forma de la palabra y el postag."
   ]
  },
  {
   "cell_type": "code",
   "execution_count": 34,
   "metadata": {},
   "outputs": [
    {
     "name": "stdout",
     "output_type": "stream",
     "text": [
      "[(('La', 'DA'), 'B-LOC'), (('Coruña', 'NC'), 'I-LOC'), (('sería', 'VSI'), 'O'), (('el', 'DA'), 'O'), (('nuevo', 'AQ'), 'O'), (('equipo', 'NC'), 'O'), (('de', 'SP'), 'O'), (('James', 'NP'), 'B-PER'), (('Rodriguez', 'NP'), 'I-PER'), ((',', 'Fc'), 'O'), (('aunque', 'CC'), 'O'), (('todavía', 'RG'), 'O'), (('es', 'VSI'), 'O'), (('de', 'SP'), 'O'), (('el', 'DA'), 'O'), (('Real', 'NP'), 'B-ORG'), (('Madrid', 'NP'), 'I-ORG'), (('de', 'SP'), 'I-ORG'), (('España', 'NP'), 'I-ORG')]\n"
     ]
    }
   ],
   "source": [
    "\n",
    "\n",
    "prueba=[('La', 'DA'), ('Coruña', 'NC'), ('sería','VSI'), ('el','DA'), ('nuevo','AQ'), ('equipo','NC'), ('de','SP'), ('James','NP'),('Rodriguez','NP'),(',','Fc'),('aunque','CC'),('todavía','RG'),\n",
    "        ('es','VSI'), ('de','SP'),('el','DA'), ('Real','NP'), ('Madrid','NP'), ('de','SP'), ('España','NP')]\n",
    "prueba1= [('Melbourne', 'NP', 'B-LOC'), ('(', 'Fpa', 'O'), ('Australia', 'NP', 'B-LOC'), (')', 'Fpt', 'O'), (',', 'Fc', 'O'),\n",
    " ('25', 'Z', 'O'), ('may', 'NC', 'O'), ('(', 'Fpa', 'O'), ('EFE', 'NC', 'B-ORG'), (')', 'Fpt', 'O'), ('.', 'Fp', 'O')]\n",
    "\n",
    "\n",
    "def pos_tag(sentence):\n",
    "    sentence_features = [word2features(sentence, index) for index in range(len(sentence))]\n",
    "    return list(zip(sentence, crf.predict([sentence_features])[0]))\n",
    "#print(sentence_features) \n",
    "print(pos_tag(prueba))  # [('I', 'PRP'), ('am', 'VBP'), ('Bob', 'NNP'), ('!', '.')]"
   ]
  },
  {
   "cell_type": "code",
   "execution_count": null,
   "metadata": {},
   "outputs": [],
   "source": []
  }
 ],
 "metadata": {
  "kernelspec": {
   "display_name": "Python 3",
   "language": "python",
   "name": "python3"
  },
  "language_info": {
   "codemirror_mode": {
    "name": "ipython",
    "version": 3
   },
   "file_extension": ".py",
   "mimetype": "text/x-python",
   "name": "python",
   "nbconvert_exporter": "python",
   "pygments_lexer": "ipython3",
   "version": "3.6.9"
  }
 },
 "nbformat": 4,
 "nbformat_minor": 1
}
